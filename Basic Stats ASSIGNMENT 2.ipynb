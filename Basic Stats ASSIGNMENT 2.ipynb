{
 "cells": [
  {
   "cell_type": "code",
   "execution_count": 1,
   "id": "6c5b0c0e",
   "metadata": {},
   "outputs": [
    {
     "name": "stderr",
     "output_type": "stream",
     "text": [
      "c:\\Users\\Aqsa\\anaconda3\\Lib\\site-packages\\pandas\\core\\arrays\\masked.py:60: UserWarning: Pandas requires version '1.3.6' or newer of 'bottleneck' (version '1.3.5' currently installed).\n",
      "  from pandas.core import (\n"
     ]
    }
   ],
   "source": [
    "from scipy import stats\n",
    "import numpy as np\n",
    "import pandas as pd"
   ]
  },
  {
   "cell_type": "code",
   "execution_count": 2,
   "id": "e2dd1c7c",
   "metadata": {},
   "outputs": [],
   "source": [
    "data=pd.Series([1.13, 1.55, 1.43, 0.92, 1.25, 1.36, 1.32, 0.85, 1.07, 1.48, 1.20, 1.33, 1.18, 1.22, 1.29])"
   ]
  },
  {
   "cell_type": "code",
   "execution_count": 3,
   "id": "b6a14bd4",
   "metadata": {},
   "outputs": [
    {
     "name": "stdout",
     "output_type": "stream",
     "text": [
      "15\n"
     ]
    }
   ],
   "source": [
    "n=len(data)\n",
    "print(n) "
   ]
  },
  {
   "cell_type": "code",
   "execution_count": 4,
   "id": "bbb24256",
   "metadata": {},
   "outputs": [
    {
     "data": {
      "text/plain": [
       "1.2386666666666666"
      ]
     },
     "execution_count": 4,
     "metadata": {},
     "output_type": "execute_result"
    }
   ],
   "source": [
    "data.mean()"
   ]
  },
  {
   "cell_type": "code",
   "execution_count": 5,
   "id": "aecda4c9",
   "metadata": {},
   "outputs": [
    {
     "data": {
      "text/plain": [
       "0.19316412956959936"
      ]
     },
     "execution_count": 5,
     "metadata": {},
     "output_type": "execute_result"
    }
   ],
   "source": [
    "data.std()"
   ]
  },
  {
   "cell_type": "code",
   "execution_count": 6,
   "id": "33b547fe",
   "metadata": {},
   "outputs": [
    {
     "name": "stdout",
     "output_type": "stream",
     "text": [
      "0.010000000000000009\n",
      "14\n"
     ]
    }
   ],
   "source": [
    "confidence_interval=0.99\n",
    "alpha=1-confidence_interval\n",
    "df=n-1\n",
    "print(alpha)\n",
    "print(df)\n"
   ]
  },
  {
   "cell_type": "markdown",
   "id": "fceadf4f",
   "metadata": {},
   "source": [
    "## Build 99% Confidence Interval Using Sample Standard Deviation"
   ]
  },
  {
   "cell_type": "code",
   "execution_count": 7,
   "id": "fa5af05d",
   "metadata": {},
   "outputs": [
    {
     "name": "stdout",
     "output_type": "stream",
     "text": [
      "At 99% confidence interval is: (0.7411088413267759, 1.7362244920065573)\n"
     ]
    }
   ],
   "source": [
    "data_series = pd.Series(data)\n",
    "data_ci= stats.norm.interval(0.99,\n",
    "loc=data_series.mean(),\n",
    "scale=data_series.std())\n",
    "print('At 99% confidence interval is:', data_ci)"
   ]
  },
  {
   "cell_type": "code",
   "execution_count": 8,
   "id": "3476ac0f",
   "metadata": {},
   "outputs": [
    {
     "data": {
      "text/plain": [
       "(1.2057473600569706, 1.2542526399430294)"
      ]
     },
     "execution_count": 8,
     "metadata": {},
     "output_type": "execute_result"
    }
   ],
   "source": [
    "stats.norm.interval(0.1,1.23,0.193)"
   ]
  },
  {
   "cell_type": "code",
   "execution_count": 9,
   "id": "bd51d16c",
   "metadata": {},
   "outputs": [
    {
     "data": {
      "text/plain": [
       "2.3263478740408408"
      ]
     },
     "execution_count": 9,
     "metadata": {},
     "output_type": "execute_result"
    }
   ],
   "source": [
    "stats.norm.ppf(0.99)"
   ]
  },
  {
   "cell_type": "markdown",
   "id": "66c9f7b1",
   "metadata": {},
   "source": [
    "## Build 99% Confidence Interval Using Known Population Standard Deviation"
   ]
  },
  {
   "cell_type": "code",
   "execution_count": 10,
   "id": "d5f07a73",
   "metadata": {},
   "outputs": [
    {
     "name": "stdout",
     "output_type": "stream",
     "text": [
      "At 99% confidence interval is: (0.7235008059568865, 1.7538325273764466)\n"
     ]
    }
   ],
   "source": [
    "data_series = pd.Series(data)\n",
    "data_ci= stats.norm.interval(0.99,\n",
    "loc=data_series.mean(),\n",
    "scale=0.2)\n",
    "print('At 99% confidence interval is:', data_ci)"
   ]
  },
  {
   "cell_type": "code",
   "execution_count": null,
   "id": "e0444a81",
   "metadata": {},
   "outputs": [],
   "source": []
  }
 ],
 "metadata": {
  "kernelspec": {
   "display_name": "Python 3 (ipykernel)",
   "language": "python",
   "name": "python3"
  },
  "language_info": {
   "codemirror_mode": {
    "name": "ipython",
    "version": 3
   },
   "file_extension": ".py",
   "mimetype": "text/x-python",
   "name": "python",
   "nbconvert_exporter": "python",
   "pygments_lexer": "ipython3",
   "version": "3.11.3"
  }
 },
 "nbformat": 4,
 "nbformat_minor": 5
}
